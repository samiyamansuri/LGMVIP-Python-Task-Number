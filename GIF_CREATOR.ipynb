{
  "nbformat": 4,
  "nbformat_minor": 0,
  "metadata": {
    "colab": {
      "provenance": [],
      "authorship_tag": "ABX9TyMaqfmxJycsSxLBTTArEY/4",
      "include_colab_link": true
    },
    "kernelspec": {
      "name": "python3",
      "display_name": "Python 3"
    },
    "language_info": {
      "name": "python"
    }
  },
  "cells": [
    {
      "cell_type": "markdown",
      "metadata": {
        "id": "view-in-github",
        "colab_type": "text"
      },
      "source": [
        "<a href=\"https://colab.research.google.com/github/samiyamansuri/LGMVIP-Python-Task-Number/blob/main/GIF_CREATOR.ipynb\" target=\"_parent\"><img src=\"https://colab.research.google.com/assets/colab-badge.svg\" alt=\"Open In Colab\"/></a>"
      ]
    },
    {
      "cell_type": "markdown",
      "source": [
        "## **GIF CREATOR**"
      ],
      "metadata": {
        "id": "jLCpp7NmT7et"
      }
    },
    {
      "cell_type": "code",
      "execution_count": 12,
      "metadata": {
        "colab": {
          "base_uri": "https://localhost:8080/"
        },
        "id": "9vMZKegDUVYq",
        "outputId": "a1b17f14-9f30-4af4-ca4e-25253e39bcf0"
      },
      "outputs": [
        {
          "output_type": "stream",
          "name": "stdout",
          "text": [
            "Requirement already satisfied: moviepy in /usr/local/lib/python3.10/dist-packages (1.0.3)\n",
            "Requirement already satisfied: decorator<5.0,>=4.0.2 in /usr/local/lib/python3.10/dist-packages (from moviepy) (4.4.2)\n",
            "Requirement already satisfied: tqdm<5.0,>=4.11.2 in /usr/local/lib/python3.10/dist-packages (from moviepy) (4.66.4)\n",
            "Requirement already satisfied: requests<3.0,>=2.8.1 in /usr/local/lib/python3.10/dist-packages (from moviepy) (2.31.0)\n",
            "Requirement already satisfied: proglog<=1.0.0 in /usr/local/lib/python3.10/dist-packages (from moviepy) (0.1.10)\n",
            "Requirement already satisfied: numpy>=1.17.3 in /usr/local/lib/python3.10/dist-packages (from moviepy) (1.25.2)\n",
            "Requirement already satisfied: imageio<3.0,>=2.5 in /usr/local/lib/python3.10/dist-packages (from moviepy) (2.31.6)\n",
            "Requirement already satisfied: imageio-ffmpeg>=0.2.0 in /usr/local/lib/python3.10/dist-packages (from moviepy) (0.5.1)\n",
            "Requirement already satisfied: pillow<10.1.0,>=8.3.2 in /usr/local/lib/python3.10/dist-packages (from imageio<3.0,>=2.5->moviepy) (9.4.0)\n",
            "Requirement already satisfied: setuptools in /usr/local/lib/python3.10/dist-packages (from imageio-ffmpeg>=0.2.0->moviepy) (67.7.2)\n",
            "Requirement already satisfied: charset-normalizer<4,>=2 in /usr/local/lib/python3.10/dist-packages (from requests<3.0,>=2.8.1->moviepy) (3.3.2)\n",
            "Requirement already satisfied: idna<4,>=2.5 in /usr/local/lib/python3.10/dist-packages (from requests<3.0,>=2.8.1->moviepy) (3.7)\n",
            "Requirement already satisfied: urllib3<3,>=1.21.1 in /usr/local/lib/python3.10/dist-packages (from requests<3.0,>=2.8.1->moviepy) (2.0.7)\n",
            "Requirement already satisfied: certifi>=2017.4.17 in /usr/local/lib/python3.10/dist-packages (from requests<3.0,>=2.8.1->moviepy) (2024.6.2)\n",
            "Requirement already satisfied: Pillow in /usr/local/lib/python3.10/dist-packages (9.4.0)\n"
          ]
        }
      ],
      "source": [
        "!pip install moviepy\n",
        "!pip install Pillow"
      ]
    },
    {
      "cell_type": "code",
      "source": [
        "import moviepy.editor as mpy\n",
        "from PIL import Image, ImageDraw, ImageFont\n",
        "import os"
      ],
      "metadata": {
        "id": "x6Z0T1e-UcHT"
      },
      "execution_count": 13,
      "outputs": []
    },
    {
      "cell_type": "code",
      "source": [
        "# Function to add text to an image\n",
        "def add_text_to_image(image_path, text, position, font_size=100, color=(0, 0, 0)):\n",
        "    image = Image.open(image_path)\n",
        "    draw = ImageDraw.Draw(image)\n",
        "\n",
        "    font = ImageFont.load_default()\n",
        "    draw.text(position, text, font=font, fill=color)\n",
        "    output_path = \"temp_\" + os.path.basename(image_path)\n",
        "    image.save(output_path)\n",
        "    return output_path\n",
        "\n",
        "# Function to create a GIF from processed images\n",
        "def create_gif(image_paths, gif_path, duration=1, transition_effect=None):\n",
        "    clips = []\n",
        "\n",
        "    for i, img_path in enumerate(image_paths):\n",
        "        # Read the image\n",
        "        img_clip = mpy.ImageClip(img_path).set_duration(duration)\n",
        "\n",
        "        # Apply transition effect\n",
        "        if transition_effect == \"fadein\" and i > 0:\n",
        "            img_clip = img_clip.crossfadein(1)\n",
        "        elif transition_effect == \"fadeout\" and i < len(image_paths) - 1:\n",
        "            img_clip = img_clip.crossfadeout(1)\n",
        "\n",
        "        clips.append(img_clip)\n",
        "\n",
        "    # Concatenate all clips\n",
        "    final_clip = mpy.concatenate_videoclips(clips, method=\"compose\")\n",
        "\n",
        "    # Write the GIF to a file\n",
        "    final_clip.write_gif(gif_path, fps=10)"
      ],
      "metadata": {
        "id": "tshhjGLQUe2D"
      },
      "execution_count": 14,
      "outputs": []
    },
    {
      "cell_type": "code",
      "source": [
        "image_paths = [\n",
        "    \"/content/firstimage.jpg\",\n",
        "    \"/content/fireworks.jpg\"\n",
        "]\n",
        "processed_images = []\n",
        "for img in image_paths:\n",
        "    text_img = add_text_to_image(img, \"Happy Diwali\", (50, 50), font_size=40)\n",
        "    processed_images.append(text_img)\n",
        "\n",
        "# Create GIF\n",
        "create_gif(processed_images, \"output.gif\", duration=1, transition_effect=\"fadein\")"
      ],
      "metadata": {
        "colab": {
          "base_uri": "https://localhost:8080/"
        },
        "id": "psjebg2-UmRD",
        "outputId": "0adf1144-5c83-47e0-e8e6-e51a3b2027be"
      },
      "execution_count": 15,
      "outputs": [
        {
          "output_type": "stream",
          "name": "stdout",
          "text": [
            "MoviePy - Building file output.gif with imageio.\n"
          ]
        },
        {
          "output_type": "stream",
          "name": "stderr",
          "text": []
        }
      ]
    }
  ]
}